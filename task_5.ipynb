{
  "nbformat": 4,
  "nbformat_minor": 0,
  "metadata": {
    "colab": {
      "name": "task 5.ipynb",
      "provenance": [],
      "collapsed_sections": []
    },
    "kernelspec": {
      "name": "python3",
      "display_name": "Python 3"
    },
    "language_info": {
      "name": "python"
    }
  },
  "cells": [
    {
      "cell_type": "code",
      "source": [
        "import pandas as pd\n",
        "import numpy as np\n",
        "import matplotlib.pyplot as plt \n",
        "import datetime\n",
        "import sqlite3\n",
        "dat = sqlite3.connect('ds22_guvi_task5_adarsh.db')\n",
        "\n"
      ],
      "metadata": {
        "id": "unZP6Z95EDw7"
      },
      "execution_count": 15,
      "outputs": []
    },
    {
      "cell_type": "code",
      "source": [
        "df1 = pd.read_csv(\"takehome_users.csv\" ,encoding='ISO-8859-1')\n",
        "df1.rename(columns = {'object_id':'user_id'}, inplace = True)\n",
        "\n",
        "#df1.to_sql(name='T1', con=dat)\n",
        "\n",
        "df2 = pd.read_csv(\"takehome_user_engagement.csv\" ,encoding='ascii' , parse_dates =['time_stamp'])\n",
        "\n",
        "#df2.to_sql(name='T2', con=dat)"
      ],
      "metadata": {
        "id": "Gvld2lr3ECrJ"
      },
      "execution_count": 16,
      "outputs": []
    },
    {
      "cell_type": "code",
      "source": [
        "df1.info()"
      ],
      "metadata": {
        "colab": {
          "base_uri": "https://localhost:8080/"
        },
        "id": "2M3aPL4AHITF",
        "outputId": "8e1e1dc9-c41b-4232-ecf5-d1cbd680b34c"
      },
      "execution_count": 17,
      "outputs": [
        {
          "output_type": "stream",
          "name": "stdout",
          "text": [
            "<class 'pandas.core.frame.DataFrame'>\n",
            "RangeIndex: 12000 entries, 0 to 11999\n",
            "Data columns (total 10 columns):\n",
            " #   Column                      Non-Null Count  Dtype  \n",
            "---  ------                      --------------  -----  \n",
            " 0   user_id                     12000 non-null  int64  \n",
            " 1   creation_time               12000 non-null  object \n",
            " 2   name                        12000 non-null  object \n",
            " 3   email                       12000 non-null  object \n",
            " 4   creation_source             12000 non-null  object \n",
            " 5   last_session_creation_time  8823 non-null   float64\n",
            " 6   opted_in_to_mailing_list    12000 non-null  int64  \n",
            " 7   enabled_for_marketing_drip  12000 non-null  int64  \n",
            " 8   org_id                      12000 non-null  int64  \n",
            " 9   invited_by_user_id          6417 non-null   float64\n",
            "dtypes: float64(2), int64(4), object(4)\n",
            "memory usage: 937.6+ KB\n"
          ]
        }
      ]
    },
    {
      "cell_type": "code",
      "source": [
        "#pre =pd.merge(df1,df2,on='inner')\n",
        "check_val = pd.merge(df1, df2, on='user_id')\n",
        "\n",
        "# check_val = pd.merge(df1, df2, left_on='object_id' , right_on='user_id')\n",
        "# left_on , right_on "
      ],
      "metadata": {
        "id": "xeg60dRPHIWp"
      },
      "execution_count": 18,
      "outputs": []
    },
    {
      "cell_type": "code",
      "source": [
        "check_val.info()"
      ],
      "metadata": {
        "colab": {
          "base_uri": "https://localhost:8080/"
        },
        "id": "k25plfFMHbGK",
        "outputId": "82772757-2e8f-4f1e-8846-613fe832ee48"
      },
      "execution_count": 19,
      "outputs": [
        {
          "output_type": "stream",
          "name": "stdout",
          "text": [
            "<class 'pandas.core.frame.DataFrame'>\n",
            "Int64Index: 207917 entries, 0 to 207916\n",
            "Data columns (total 12 columns):\n",
            " #   Column                      Non-Null Count   Dtype         \n",
            "---  ------                      --------------   -----         \n",
            " 0   user_id                     207917 non-null  int64         \n",
            " 1   creation_time               207917 non-null  object        \n",
            " 2   name                        207917 non-null  object        \n",
            " 3   email                       207917 non-null  object        \n",
            " 4   creation_source             207917 non-null  object        \n",
            " 5   last_session_creation_time  207917 non-null  float64       \n",
            " 6   opted_in_to_mailing_list    207917 non-null  int64         \n",
            " 7   enabled_for_marketing_drip  207917 non-null  int64         \n",
            " 8   org_id                      207917 non-null  int64         \n",
            " 9   invited_by_user_id          116887 non-null  float64       \n",
            " 10  time_stamp                  207917 non-null  datetime64[ns]\n",
            " 11  visited                     207917 non-null  int64         \n",
            "dtypes: datetime64[ns](1), float64(2), int64(5), object(4)\n",
            "memory usage: 20.6+ MB\n"
          ]
        }
      ]
    },
    {
      "cell_type": "code",
      "source": [
        "#check_val.to_sql(name='T3', con=dat)"
      ],
      "metadata": {
        "id": "0kSlXcmfHbI8"
      },
      "execution_count": 20,
      "outputs": []
    },
    {
      "cell_type": "code",
      "source": [
        "\"\"\"\n",
        "a = []\n",
        "c = dat.cursor()\n",
        "c.execute(\"select count(1) from T1 \") \n",
        "for i in c.fetchall():\n",
        "   a.append(str(i))\n",
        "c = dat.cursor()\n",
        "c.execute(\"CREATE TABLE T4(time_stamp date,user_id integer,visited integer) \")\n",
        "#c = dat.cursor()\n",
        "c.execute(\"insert into T4 select cast(time_stamp as date) time_stamp, user_id , visited from T2\")\n",
        "#c.execute(\"DROP TABLE T4\") \n",
        "\n",
        "query = dat.execute(\"SELECT * From T4\")\n",
        "cols = [column[0] for column in query.description]\n",
        "results= pd.DataFrame.from_records(data = query.fetchall(), columns = cols)\n",
        "results\n",
        "\"\"\"\n",
        "\n",
        "#query = dat.execute(ex1)\n",
        "#cols = [column[0] for column in query.description]\n",
        "#results= pd.DataFrame.from_records(data = query.fetchall(), columns = cols)\n",
        "\n",
        "'''\n",
        "t = '2018-09-19'\n",
        "t = np.datetime64(t)\n",
        "day = t.astype(datetime.datetime).is\n",
        "print (day)\n",
        "'''"
      ],
      "metadata": {
        "colab": {
          "base_uri": "https://localhost:8080/",
          "height": 35
        },
        "id": "tvJm6_H1HbNF",
        "outputId": "bb0e69a2-cea5-48dd-a272-c60dddd08d14"
      },
      "execution_count": 21,
      "outputs": [
        {
          "output_type": "execute_result",
          "data": {
            "text/plain": [
              "\"\\nt = '2018-09-19'\\nt = np.datetime64(t)\\nday = t.astype(datetime.datetime).is\\nprint (day)\\n\""
            ],
            "application/vnd.google.colaboratory.intrinsic+json": {
              "type": "string"
            }
          },
          "metadata": {},
          "execution_count": 21
        }
      ]
    },
    {
      "cell_type": "code",
      "source": [
        "# check_val['dt'] = np.datetime64(check_val ['time_stamp'])\n",
        "check_val['date'] = check_val['time_stamp'].astype('datetime64')\n",
        "# check_val['wk'] = check_val['date'].dt.week\n",
        "check_val['wk'] = check_val['date'].dt.isocalendar().week\n",
        "check_val['yr'] = check_val['date'].dt.isocalendar().year\n",
        "check_val['mn'] = check_val['date'].dt.month"
      ],
      "metadata": {
        "id": "UI74FRvaH9HU"
      },
      "execution_count": 41,
      "outputs": []
    },
    {
      "cell_type": "code",
      "source": [
        "check_val.info()\n",
        "check_val.count()\n",
        "check_val.describe()"
      ],
      "metadata": {
        "colab": {
          "base_uri": "https://localhost:8080/",
          "height": 764
        },
        "id": "Ho45HqWuH9KD",
        "outputId": "f44cd7d4-def6-4ee8-8c07-21a48b1c7c8e"
      },
      "execution_count": 43,
      "outputs": [
        {
          "output_type": "stream",
          "name": "stdout",
          "text": [
            "<class 'pandas.core.frame.DataFrame'>\n",
            "Int64Index: 207917 entries, 0 to 207916\n",
            "Data columns (total 16 columns):\n",
            " #   Column                      Non-Null Count   Dtype         \n",
            "---  ------                      --------------   -----         \n",
            " 0   user_id                     207917 non-null  int64         \n",
            " 1   creation_time               207917 non-null  object        \n",
            " 2   name                        207917 non-null  object        \n",
            " 3   email                       207917 non-null  object        \n",
            " 4   creation_source             207917 non-null  object        \n",
            " 5   last_session_creation_time  207917 non-null  float64       \n",
            " 6   opted_in_to_mailing_list    207917 non-null  int64         \n",
            " 7   enabled_for_marketing_drip  207917 non-null  int64         \n",
            " 8   org_id                      207917 non-null  int64         \n",
            " 9   invited_by_user_id          116887 non-null  float64       \n",
            " 10  time_stamp                  207917 non-null  datetime64[ns]\n",
            " 11  visited                     207917 non-null  int64         \n",
            " 12  date                        207917 non-null  datetime64[ns]\n",
            " 13  wk                          207917 non-null  UInt32        \n",
            " 14  yr                          207917 non-null  UInt32        \n",
            " 15  mn                          207917 non-null  int64         \n",
            "dtypes: UInt32(2), datetime64[ns](2), float64(2), int64(6), object(4)\n",
            "memory usage: 25.8+ MB\n"
          ]
        },
        {
          "output_type": "execute_result",
          "data": {
            "text/plain": [
              "             user_id  last_session_creation_time  opted_in_to_mailing_list  \\\n",
              "count  207917.000000                2.079170e+05             207917.000000   \n",
              "mean     5913.314197                1.399439e+09                  0.258137   \n",
              "std      3394.941674                8.294017e+06                  0.437611   \n",
              "min         1.000000                1.338452e+09                  0.000000   \n",
              "25%      3087.000000                1.401045e+09                  0.000000   \n",
              "50%      5682.000000                1.401665e+09                  0.000000   \n",
              "75%      8944.000000                1.401868e+09                  1.000000   \n",
              "max     12000.000000                1.402067e+09                  1.000000   \n",
              "\n",
              "       enabled_for_marketing_drip         org_id  invited_by_user_id  \\\n",
              "count               207917.000000  207917.000000       116887.000000   \n",
              "mean                     0.154533     164.315895         5972.167555   \n",
              "std                      0.361460     121.165846         3247.095621   \n",
              "min                      0.000000       0.000000            3.000000   \n",
              "25%                      0.000000      60.000000         3269.000000   \n",
              "50%                      0.000000     145.000000         5972.000000   \n",
              "75%                      0.000000     260.000000         8513.000000   \n",
              "max                      1.000000     416.000000        11999.000000   \n",
              "\n",
              "        visited             wk             yr             mn  \n",
              "count  207917.0  207917.000000  207917.000000  207917.000000  \n",
              "mean        1.0      23.908993    2013.382783       5.930112  \n",
              "std         0.0      15.302984       0.590900       3.529426  \n",
              "min         1.0       1.000000    2012.000000       1.000000  \n",
              "25%         1.0      11.000000    2013.000000       3.000000  \n",
              "50%         1.0      20.000000    2013.000000       5.000000  \n",
              "75%         1.0      38.000000    2014.000000       9.000000  \n",
              "max         1.0      52.000000    2014.000000      12.000000  "
            ],
            "text/html": [
              "\n",
              "  <div id=\"df-b9f44fa8-5d5b-4474-8f01-894a5386fa75\">\n",
              "    <div class=\"colab-df-container\">\n",
              "      <div>\n",
              "<style scoped>\n",
              "    .dataframe tbody tr th:only-of-type {\n",
              "        vertical-align: middle;\n",
              "    }\n",
              "\n",
              "    .dataframe tbody tr th {\n",
              "        vertical-align: top;\n",
              "    }\n",
              "\n",
              "    .dataframe thead th {\n",
              "        text-align: right;\n",
              "    }\n",
              "</style>\n",
              "<table border=\"1\" class=\"dataframe\">\n",
              "  <thead>\n",
              "    <tr style=\"text-align: right;\">\n",
              "      <th></th>\n",
              "      <th>user_id</th>\n",
              "      <th>last_session_creation_time</th>\n",
              "      <th>opted_in_to_mailing_list</th>\n",
              "      <th>enabled_for_marketing_drip</th>\n",
              "      <th>org_id</th>\n",
              "      <th>invited_by_user_id</th>\n",
              "      <th>visited</th>\n",
              "      <th>wk</th>\n",
              "      <th>yr</th>\n",
              "      <th>mn</th>\n",
              "    </tr>\n",
              "  </thead>\n",
              "  <tbody>\n",
              "    <tr>\n",
              "      <th>count</th>\n",
              "      <td>207917.000000</td>\n",
              "      <td>2.079170e+05</td>\n",
              "      <td>207917.000000</td>\n",
              "      <td>207917.000000</td>\n",
              "      <td>207917.000000</td>\n",
              "      <td>116887.000000</td>\n",
              "      <td>207917.0</td>\n",
              "      <td>207917.000000</td>\n",
              "      <td>207917.000000</td>\n",
              "      <td>207917.000000</td>\n",
              "    </tr>\n",
              "    <tr>\n",
              "      <th>mean</th>\n",
              "      <td>5913.314197</td>\n",
              "      <td>1.399439e+09</td>\n",
              "      <td>0.258137</td>\n",
              "      <td>0.154533</td>\n",
              "      <td>164.315895</td>\n",
              "      <td>5972.167555</td>\n",
              "      <td>1.0</td>\n",
              "      <td>23.908993</td>\n",
              "      <td>2013.382783</td>\n",
              "      <td>5.930112</td>\n",
              "    </tr>\n",
              "    <tr>\n",
              "      <th>std</th>\n",
              "      <td>3394.941674</td>\n",
              "      <td>8.294017e+06</td>\n",
              "      <td>0.437611</td>\n",
              "      <td>0.361460</td>\n",
              "      <td>121.165846</td>\n",
              "      <td>3247.095621</td>\n",
              "      <td>0.0</td>\n",
              "      <td>15.302984</td>\n",
              "      <td>0.590900</td>\n",
              "      <td>3.529426</td>\n",
              "    </tr>\n",
              "    <tr>\n",
              "      <th>min</th>\n",
              "      <td>1.000000</td>\n",
              "      <td>1.338452e+09</td>\n",
              "      <td>0.000000</td>\n",
              "      <td>0.000000</td>\n",
              "      <td>0.000000</td>\n",
              "      <td>3.000000</td>\n",
              "      <td>1.0</td>\n",
              "      <td>1.000000</td>\n",
              "      <td>2012.000000</td>\n",
              "      <td>1.000000</td>\n",
              "    </tr>\n",
              "    <tr>\n",
              "      <th>25%</th>\n",
              "      <td>3087.000000</td>\n",
              "      <td>1.401045e+09</td>\n",
              "      <td>0.000000</td>\n",
              "      <td>0.000000</td>\n",
              "      <td>60.000000</td>\n",
              "      <td>3269.000000</td>\n",
              "      <td>1.0</td>\n",
              "      <td>11.000000</td>\n",
              "      <td>2013.000000</td>\n",
              "      <td>3.000000</td>\n",
              "    </tr>\n",
              "    <tr>\n",
              "      <th>50%</th>\n",
              "      <td>5682.000000</td>\n",
              "      <td>1.401665e+09</td>\n",
              "      <td>0.000000</td>\n",
              "      <td>0.000000</td>\n",
              "      <td>145.000000</td>\n",
              "      <td>5972.000000</td>\n",
              "      <td>1.0</td>\n",
              "      <td>20.000000</td>\n",
              "      <td>2013.000000</td>\n",
              "      <td>5.000000</td>\n",
              "    </tr>\n",
              "    <tr>\n",
              "      <th>75%</th>\n",
              "      <td>8944.000000</td>\n",
              "      <td>1.401868e+09</td>\n",
              "      <td>1.000000</td>\n",
              "      <td>0.000000</td>\n",
              "      <td>260.000000</td>\n",
              "      <td>8513.000000</td>\n",
              "      <td>1.0</td>\n",
              "      <td>38.000000</td>\n",
              "      <td>2014.000000</td>\n",
              "      <td>9.000000</td>\n",
              "    </tr>\n",
              "    <tr>\n",
              "      <th>max</th>\n",
              "      <td>12000.000000</td>\n",
              "      <td>1.402067e+09</td>\n",
              "      <td>1.000000</td>\n",
              "      <td>1.000000</td>\n",
              "      <td>416.000000</td>\n",
              "      <td>11999.000000</td>\n",
              "      <td>1.0</td>\n",
              "      <td>52.000000</td>\n",
              "      <td>2014.000000</td>\n",
              "      <td>12.000000</td>\n",
              "    </tr>\n",
              "  </tbody>\n",
              "</table>\n",
              "</div>\n",
              "      <button class=\"colab-df-convert\" onclick=\"convertToInteractive('df-b9f44fa8-5d5b-4474-8f01-894a5386fa75')\"\n",
              "              title=\"Convert this dataframe to an interactive table.\"\n",
              "              style=\"display:none;\">\n",
              "        \n",
              "  <svg xmlns=\"http://www.w3.org/2000/svg\" height=\"24px\"viewBox=\"0 0 24 24\"\n",
              "       width=\"24px\">\n",
              "    <path d=\"M0 0h24v24H0V0z\" fill=\"none\"/>\n",
              "    <path d=\"M18.56 5.44l.94 2.06.94-2.06 2.06-.94-2.06-.94-.94-2.06-.94 2.06-2.06.94zm-11 1L8.5 8.5l.94-2.06 2.06-.94-2.06-.94L8.5 2.5l-.94 2.06-2.06.94zm10 10l.94 2.06.94-2.06 2.06-.94-2.06-.94-.94-2.06-.94 2.06-2.06.94z\"/><path d=\"M17.41 7.96l-1.37-1.37c-.4-.4-.92-.59-1.43-.59-.52 0-1.04.2-1.43.59L10.3 9.45l-7.72 7.72c-.78.78-.78 2.05 0 2.83L4 21.41c.39.39.9.59 1.41.59.51 0 1.02-.2 1.41-.59l7.78-7.78 2.81-2.81c.8-.78.8-2.07 0-2.86zM5.41 20L4 18.59l7.72-7.72 1.47 1.35L5.41 20z\"/>\n",
              "  </svg>\n",
              "      </button>\n",
              "      \n",
              "  <style>\n",
              "    .colab-df-container {\n",
              "      display:flex;\n",
              "      flex-wrap:wrap;\n",
              "      gap: 12px;\n",
              "    }\n",
              "\n",
              "    .colab-df-convert {\n",
              "      background-color: #E8F0FE;\n",
              "      border: none;\n",
              "      border-radius: 50%;\n",
              "      cursor: pointer;\n",
              "      display: none;\n",
              "      fill: #1967D2;\n",
              "      height: 32px;\n",
              "      padding: 0 0 0 0;\n",
              "      width: 32px;\n",
              "    }\n",
              "\n",
              "    .colab-df-convert:hover {\n",
              "      background-color: #E2EBFA;\n",
              "      box-shadow: 0px 1px 2px rgba(60, 64, 67, 0.3), 0px 1px 3px 1px rgba(60, 64, 67, 0.15);\n",
              "      fill: #174EA6;\n",
              "    }\n",
              "\n",
              "    [theme=dark] .colab-df-convert {\n",
              "      background-color: #3B4455;\n",
              "      fill: #D2E3FC;\n",
              "    }\n",
              "\n",
              "    [theme=dark] .colab-df-convert:hover {\n",
              "      background-color: #434B5C;\n",
              "      box-shadow: 0px 1px 3px 1px rgba(0, 0, 0, 0.15);\n",
              "      filter: drop-shadow(0px 1px 2px rgba(0, 0, 0, 0.3));\n",
              "      fill: #FFFFFF;\n",
              "    }\n",
              "  </style>\n",
              "\n",
              "      <script>\n",
              "        const buttonEl =\n",
              "          document.querySelector('#df-b9f44fa8-5d5b-4474-8f01-894a5386fa75 button.colab-df-convert');\n",
              "        buttonEl.style.display =\n",
              "          google.colab.kernel.accessAllowed ? 'block' : 'none';\n",
              "\n",
              "        async function convertToInteractive(key) {\n",
              "          const element = document.querySelector('#df-b9f44fa8-5d5b-4474-8f01-894a5386fa75');\n",
              "          const dataTable =\n",
              "            await google.colab.kernel.invokeFunction('convertToInteractive',\n",
              "                                                     [key], {});\n",
              "          if (!dataTable) return;\n",
              "\n",
              "          const docLinkHtml = 'Like what you see? Visit the ' +\n",
              "            '<a target=\"_blank\" href=https://colab.research.google.com/notebooks/data_table.ipynb>data table notebook</a>'\n",
              "            + ' to learn more about interactive tables.';\n",
              "          element.innerHTML = '';\n",
              "          dataTable['output_type'] = 'display_data';\n",
              "          await google.colab.output.renderOutput(dataTable, element);\n",
              "          const docLink = document.createElement('div');\n",
              "          docLink.innerHTML = docLinkHtml;\n",
              "          element.appendChild(docLink);\n",
              "        }\n",
              "      </script>\n",
              "    </div>\n",
              "  </div>\n",
              "  "
            ]
          },
          "metadata": {},
          "execution_count": 43
        }
      ]
    },
    {
      "cell_type": "code",
      "source": [
        "#c=check_val.groupby(by=['user_id','yr' , 'wk' , 'visited'], as_index=False).count()\n",
        "# a = check_val.groupby('user_id','yr' , 'wk','visited' )['visited'].count()\n"
      ],
      "metadata": {
        "id": "vmDZrPTPH9OR"
      },
      "execution_count": 27,
      "outputs": []
    },
    {
      "cell_type": "code",
      "source": [
        "count_series = check_val.groupby(['user_id','org_id','yr' ,'mn', 'wk' , 'visited']).size()"
      ],
      "metadata": {
        "id": "XT4YYCLsIkwb"
      },
      "execution_count": 44,
      "outputs": []
    },
    {
      "cell_type": "code",
      "source": [
        "new_df = count_series.to_frame(name = 'size').reset_index()\n",
        "new_df"
      ],
      "metadata": {
        "colab": {
          "base_uri": "https://localhost:8080/",
          "height": 424
        },
        "id": "VxNbpPZZIdIy",
        "outputId": "fdd81e88-4549-4b9e-cb83-b178783977b2"
      },
      "execution_count": 45,
      "outputs": [
        {
          "output_type": "execute_result",
          "data": {
            "text/plain": [
              "       user_id  org_id    yr  mn  wk  visited  size\n",
              "0            1      11  2014   4  17        1     1\n",
              "1            2       1  2013  11  46        1     1\n",
              "2            2       1  2013  11  48        1     1\n",
              "3            2       1  2013  12  50        1     1\n",
              "4            2       1  2013  12  52        1     1\n",
              "...        ...     ...   ...  ..  ..      ...   ...\n",
              "75928    11996      89  2013   9  36        1     1\n",
              "75929    11997     200  2013   1   3        1     1\n",
              "75930    11998      83  2014   4  17        1     1\n",
              "75931    11999       6  2012   6  22        1     1\n",
              "75932    12000       0  2014   1   4        1     1\n",
              "\n",
              "[75933 rows x 7 columns]"
            ],
            "text/html": [
              "\n",
              "  <div id=\"df-59f958fa-c7d0-4d9b-8aba-62745b018218\">\n",
              "    <div class=\"colab-df-container\">\n",
              "      <div>\n",
              "<style scoped>\n",
              "    .dataframe tbody tr th:only-of-type {\n",
              "        vertical-align: middle;\n",
              "    }\n",
              "\n",
              "    .dataframe tbody tr th {\n",
              "        vertical-align: top;\n",
              "    }\n",
              "\n",
              "    .dataframe thead th {\n",
              "        text-align: right;\n",
              "    }\n",
              "</style>\n",
              "<table border=\"1\" class=\"dataframe\">\n",
              "  <thead>\n",
              "    <tr style=\"text-align: right;\">\n",
              "      <th></th>\n",
              "      <th>user_id</th>\n",
              "      <th>org_id</th>\n",
              "      <th>yr</th>\n",
              "      <th>mn</th>\n",
              "      <th>wk</th>\n",
              "      <th>visited</th>\n",
              "      <th>size</th>\n",
              "    </tr>\n",
              "  </thead>\n",
              "  <tbody>\n",
              "    <tr>\n",
              "      <th>0</th>\n",
              "      <td>1</td>\n",
              "      <td>11</td>\n",
              "      <td>2014</td>\n",
              "      <td>4</td>\n",
              "      <td>17</td>\n",
              "      <td>1</td>\n",
              "      <td>1</td>\n",
              "    </tr>\n",
              "    <tr>\n",
              "      <th>1</th>\n",
              "      <td>2</td>\n",
              "      <td>1</td>\n",
              "      <td>2013</td>\n",
              "      <td>11</td>\n",
              "      <td>46</td>\n",
              "      <td>1</td>\n",
              "      <td>1</td>\n",
              "    </tr>\n",
              "    <tr>\n",
              "      <th>2</th>\n",
              "      <td>2</td>\n",
              "      <td>1</td>\n",
              "      <td>2013</td>\n",
              "      <td>11</td>\n",
              "      <td>48</td>\n",
              "      <td>1</td>\n",
              "      <td>1</td>\n",
              "    </tr>\n",
              "    <tr>\n",
              "      <th>3</th>\n",
              "      <td>2</td>\n",
              "      <td>1</td>\n",
              "      <td>2013</td>\n",
              "      <td>12</td>\n",
              "      <td>50</td>\n",
              "      <td>1</td>\n",
              "      <td>1</td>\n",
              "    </tr>\n",
              "    <tr>\n",
              "      <th>4</th>\n",
              "      <td>2</td>\n",
              "      <td>1</td>\n",
              "      <td>2013</td>\n",
              "      <td>12</td>\n",
              "      <td>52</td>\n",
              "      <td>1</td>\n",
              "      <td>1</td>\n",
              "    </tr>\n",
              "    <tr>\n",
              "      <th>...</th>\n",
              "      <td>...</td>\n",
              "      <td>...</td>\n",
              "      <td>...</td>\n",
              "      <td>...</td>\n",
              "      <td>...</td>\n",
              "      <td>...</td>\n",
              "      <td>...</td>\n",
              "    </tr>\n",
              "    <tr>\n",
              "      <th>75928</th>\n",
              "      <td>11996</td>\n",
              "      <td>89</td>\n",
              "      <td>2013</td>\n",
              "      <td>9</td>\n",
              "      <td>36</td>\n",
              "      <td>1</td>\n",
              "      <td>1</td>\n",
              "    </tr>\n",
              "    <tr>\n",
              "      <th>75929</th>\n",
              "      <td>11997</td>\n",
              "      <td>200</td>\n",
              "      <td>2013</td>\n",
              "      <td>1</td>\n",
              "      <td>3</td>\n",
              "      <td>1</td>\n",
              "      <td>1</td>\n",
              "    </tr>\n",
              "    <tr>\n",
              "      <th>75930</th>\n",
              "      <td>11998</td>\n",
              "      <td>83</td>\n",
              "      <td>2014</td>\n",
              "      <td>4</td>\n",
              "      <td>17</td>\n",
              "      <td>1</td>\n",
              "      <td>1</td>\n",
              "    </tr>\n",
              "    <tr>\n",
              "      <th>75931</th>\n",
              "      <td>11999</td>\n",
              "      <td>6</td>\n",
              "      <td>2012</td>\n",
              "      <td>6</td>\n",
              "      <td>22</td>\n",
              "      <td>1</td>\n",
              "      <td>1</td>\n",
              "    </tr>\n",
              "    <tr>\n",
              "      <th>75932</th>\n",
              "      <td>12000</td>\n",
              "      <td>0</td>\n",
              "      <td>2014</td>\n",
              "      <td>1</td>\n",
              "      <td>4</td>\n",
              "      <td>1</td>\n",
              "      <td>1</td>\n",
              "    </tr>\n",
              "  </tbody>\n",
              "</table>\n",
              "<p>75933 rows × 7 columns</p>\n",
              "</div>\n",
              "      <button class=\"colab-df-convert\" onclick=\"convertToInteractive('df-59f958fa-c7d0-4d9b-8aba-62745b018218')\"\n",
              "              title=\"Convert this dataframe to an interactive table.\"\n",
              "              style=\"display:none;\">\n",
              "        \n",
              "  <svg xmlns=\"http://www.w3.org/2000/svg\" height=\"24px\"viewBox=\"0 0 24 24\"\n",
              "       width=\"24px\">\n",
              "    <path d=\"M0 0h24v24H0V0z\" fill=\"none\"/>\n",
              "    <path d=\"M18.56 5.44l.94 2.06.94-2.06 2.06-.94-2.06-.94-.94-2.06-.94 2.06-2.06.94zm-11 1L8.5 8.5l.94-2.06 2.06-.94-2.06-.94L8.5 2.5l-.94 2.06-2.06.94zm10 10l.94 2.06.94-2.06 2.06-.94-2.06-.94-.94-2.06-.94 2.06-2.06.94z\"/><path d=\"M17.41 7.96l-1.37-1.37c-.4-.4-.92-.59-1.43-.59-.52 0-1.04.2-1.43.59L10.3 9.45l-7.72 7.72c-.78.78-.78 2.05 0 2.83L4 21.41c.39.39.9.59 1.41.59.51 0 1.02-.2 1.41-.59l7.78-7.78 2.81-2.81c.8-.78.8-2.07 0-2.86zM5.41 20L4 18.59l7.72-7.72 1.47 1.35L5.41 20z\"/>\n",
              "  </svg>\n",
              "      </button>\n",
              "      \n",
              "  <style>\n",
              "    .colab-df-container {\n",
              "      display:flex;\n",
              "      flex-wrap:wrap;\n",
              "      gap: 12px;\n",
              "    }\n",
              "\n",
              "    .colab-df-convert {\n",
              "      background-color: #E8F0FE;\n",
              "      border: none;\n",
              "      border-radius: 50%;\n",
              "      cursor: pointer;\n",
              "      display: none;\n",
              "      fill: #1967D2;\n",
              "      height: 32px;\n",
              "      padding: 0 0 0 0;\n",
              "      width: 32px;\n",
              "    }\n",
              "\n",
              "    .colab-df-convert:hover {\n",
              "      background-color: #E2EBFA;\n",
              "      box-shadow: 0px 1px 2px rgba(60, 64, 67, 0.3), 0px 1px 3px 1px rgba(60, 64, 67, 0.15);\n",
              "      fill: #174EA6;\n",
              "    }\n",
              "\n",
              "    [theme=dark] .colab-df-convert {\n",
              "      background-color: #3B4455;\n",
              "      fill: #D2E3FC;\n",
              "    }\n",
              "\n",
              "    [theme=dark] .colab-df-convert:hover {\n",
              "      background-color: #434B5C;\n",
              "      box-shadow: 0px 1px 3px 1px rgba(0, 0, 0, 0.15);\n",
              "      filter: drop-shadow(0px 1px 2px rgba(0, 0, 0, 0.3));\n",
              "      fill: #FFFFFF;\n",
              "    }\n",
              "  </style>\n",
              "\n",
              "      <script>\n",
              "        const buttonEl =\n",
              "          document.querySelector('#df-59f958fa-c7d0-4d9b-8aba-62745b018218 button.colab-df-convert');\n",
              "        buttonEl.style.display =\n",
              "          google.colab.kernel.accessAllowed ? 'block' : 'none';\n",
              "\n",
              "        async function convertToInteractive(key) {\n",
              "          const element = document.querySelector('#df-59f958fa-c7d0-4d9b-8aba-62745b018218');\n",
              "          const dataTable =\n",
              "            await google.colab.kernel.invokeFunction('convertToInteractive',\n",
              "                                                     [key], {});\n",
              "          if (!dataTable) return;\n",
              "\n",
              "          const docLinkHtml = 'Like what you see? Visit the ' +\n",
              "            '<a target=\"_blank\" href=https://colab.research.google.com/notebooks/data_table.ipynb>data table notebook</a>'\n",
              "            + ' to learn more about interactive tables.';\n",
              "          element.innerHTML = '';\n",
              "          dataTable['output_type'] = 'display_data';\n",
              "          await google.colab.output.renderOutput(dataTable, element);\n",
              "          const docLink = document.createElement('div');\n",
              "          docLink.innerHTML = docLinkHtml;\n",
              "          element.appendChild(docLink);\n",
              "        }\n",
              "      </script>\n",
              "    </div>\n",
              "  </div>\n",
              "  "
            ]
          },
          "metadata": {},
          "execution_count": 45
        }
      ]
    },
    {
      "cell_type": "code",
      "source": [
        "new_df_1 = new_df[new_df['size'] >= 3]"
      ],
      "metadata": {
        "id": "74MlyiwbHbQS"
      },
      "execution_count": 46,
      "outputs": []
    },
    {
      "cell_type": "code",
      "source": [
        "new_df_1.info()\n",
        "new_df_1.rename(columns = {'size':'cnt'}, inplace = True)\n",
        "new_df_1.info()"
      ],
      "metadata": {
        "colab": {
          "base_uri": "https://localhost:8080/"
        },
        "id": "KyiaXkfJJd3b",
        "outputId": "547ec2b7-05f8-4e43-89a9-633dd9cd2c8f"
      },
      "execution_count": 47,
      "outputs": [
        {
          "output_type": "stream",
          "name": "stdout",
          "text": [
            "<class 'pandas.core.frame.DataFrame'>\n",
            "Int64Index: 32754 entries, 6 to 75916\n",
            "Data columns (total 7 columns):\n",
            " #   Column   Non-Null Count  Dtype\n",
            "---  ------   --------------  -----\n",
            " 0   user_id  32754 non-null  int64\n",
            " 1   org_id   32754 non-null  int64\n",
            " 2   yr       32754 non-null  int64\n",
            " 3   mn       32754 non-null  int64\n",
            " 4   wk       32754 non-null  int64\n",
            " 5   visited  32754 non-null  int64\n",
            " 6   size     32754 non-null  int64\n",
            "dtypes: int64(7)\n",
            "memory usage: 2.0 MB\n",
            "<class 'pandas.core.frame.DataFrame'>\n",
            "Int64Index: 32754 entries, 6 to 75916\n",
            "Data columns (total 7 columns):\n",
            " #   Column   Non-Null Count  Dtype\n",
            "---  ------   --------------  -----\n",
            " 0   user_id  32754 non-null  int64\n",
            " 1   org_id   32754 non-null  int64\n",
            " 2   yr       32754 non-null  int64\n",
            " 3   mn       32754 non-null  int64\n",
            " 4   wk       32754 non-null  int64\n",
            " 5   visited  32754 non-null  int64\n",
            " 6   cnt      32754 non-null  int64\n",
            "dtypes: int64(7)\n",
            "memory usage: 2.0 MB\n"
          ]
        },
        {
          "output_type": "stream",
          "name": "stderr",
          "text": [
            "/usr/local/lib/python3.7/dist-packages/pandas/core/frame.py:5047: SettingWithCopyWarning: \n",
            "A value is trying to be set on a copy of a slice from a DataFrame\n",
            "\n",
            "See the caveats in the documentation: https://pandas.pydata.org/pandas-docs/stable/user_guide/indexing.html#returning-a-view-versus-a-copy\n",
            "  errors=errors,\n"
          ]
        }
      ]
    },
    {
      "cell_type": "code",
      "source": [
        "# new_df_1[ (new_df_1['user_id'] == 1027) & (new_df_1['wk'] == 1) & (new_df_1['yr'] == 2013) ]\n",
        "# check_val[ (check_val['user_id'] == 1027) & (check_val['wk'] == 1) & (check_val['yr'] == 2013) ]"
      ],
      "metadata": {
        "id": "X-oafNMJJd7y"
      },
      "execution_count": 48,
      "outputs": []
    },
    {
      "cell_type": "code",
      "source": [
        "df2.info()\n",
        "#df2['wk'] = df2['time_stamp'].dt.isocalendar().week\n",
        "#df2['yr'] = df2['time_stamp'].dt.isocalendar().year\n",
        "#df2['mn'] = df2['time_stamp'].dt.month\n",
        "#df2\n",
        "# df2[ (df2['user_id'] == 1027) & (df2['wk'] <= 1) & (df2['yr'] == 2013) ]"
      ],
      "metadata": {
        "colab": {
          "base_uri": "https://localhost:8080/"
        },
        "id": "PL9K259JJd-8",
        "outputId": "1c7dae8e-edb8-48cc-a647-69841e8a35ba"
      },
      "execution_count": 35,
      "outputs": [
        {
          "output_type": "stream",
          "name": "stdout",
          "text": [
            "<class 'pandas.core.frame.DataFrame'>\n",
            "RangeIndex: 207917 entries, 0 to 207916\n",
            "Data columns (total 3 columns):\n",
            " #   Column      Non-Null Count   Dtype         \n",
            "---  ------      --------------   -----         \n",
            " 0   time_stamp  207917 non-null  datetime64[ns]\n",
            " 1   user_id     207917 non-null  int64         \n",
            " 2   visited     207917 non-null  int64         \n",
            "dtypes: datetime64[ns](1), int64(2)\n",
            "memory usage: 4.8 MB\n"
          ]
        }
      ]
    },
    {
      "cell_type": "code",
      "source": [
        "#print(new_df_1['user_id'].unique())\n",
        "# new_df_2 = new_df_1.sort_values(by=['user_id', 'org_id' ], inplace=True)\n",
        "new_df_2 = new_df_1\n",
        "new_df_2 = new_df_2.groupby(['user_id','org_id']).size()\n",
        "new_df_2 = new_df_2.to_frame(name = 'size').reset_index()\n",
        "new_df_2.rename(columns = {'size':'cnt'}, inplace = True)\n",
        "new_df_2"
      ],
      "metadata": {
        "colab": {
          "base_uri": "https://localhost:8080/",
          "height": 424
        },
        "id": "XW5MF4r6JuBe",
        "outputId": "077f0c3b-1c24-4a39-ddff-baeb9c9f2adb"
      },
      "execution_count": 49,
      "outputs": [
        {
          "output_type": "execute_result",
          "data": {
            "text/plain": [
              "      user_id  org_id  cnt\n",
              "0           2       1    1\n",
              "1          10     318   51\n",
              "2          20      58    1\n",
              "3          33     401    1\n",
              "4          42     235   66\n",
              "...       ...     ...  ...\n",
              "1411    11965      65    1\n",
              "1412    11967      15    7\n",
              "1413    11969      52   21\n",
              "1414    11975      31   43\n",
              "1415    11988     114    4\n",
              "\n",
              "[1416 rows x 3 columns]"
            ],
            "text/html": [
              "\n",
              "  <div id=\"df-be3c6995-8b9a-46dc-918b-dfd9f13c497f\">\n",
              "    <div class=\"colab-df-container\">\n",
              "      <div>\n",
              "<style scoped>\n",
              "    .dataframe tbody tr th:only-of-type {\n",
              "        vertical-align: middle;\n",
              "    }\n",
              "\n",
              "    .dataframe tbody tr th {\n",
              "        vertical-align: top;\n",
              "    }\n",
              "\n",
              "    .dataframe thead th {\n",
              "        text-align: right;\n",
              "    }\n",
              "</style>\n",
              "<table border=\"1\" class=\"dataframe\">\n",
              "  <thead>\n",
              "    <tr style=\"text-align: right;\">\n",
              "      <th></th>\n",
              "      <th>user_id</th>\n",
              "      <th>org_id</th>\n",
              "      <th>cnt</th>\n",
              "    </tr>\n",
              "  </thead>\n",
              "  <tbody>\n",
              "    <tr>\n",
              "      <th>0</th>\n",
              "      <td>2</td>\n",
              "      <td>1</td>\n",
              "      <td>1</td>\n",
              "    </tr>\n",
              "    <tr>\n",
              "      <th>1</th>\n",
              "      <td>10</td>\n",
              "      <td>318</td>\n",
              "      <td>51</td>\n",
              "    </tr>\n",
              "    <tr>\n",
              "      <th>2</th>\n",
              "      <td>20</td>\n",
              "      <td>58</td>\n",
              "      <td>1</td>\n",
              "    </tr>\n",
              "    <tr>\n",
              "      <th>3</th>\n",
              "      <td>33</td>\n",
              "      <td>401</td>\n",
              "      <td>1</td>\n",
              "    </tr>\n",
              "    <tr>\n",
              "      <th>4</th>\n",
              "      <td>42</td>\n",
              "      <td>235</td>\n",
              "      <td>66</td>\n",
              "    </tr>\n",
              "    <tr>\n",
              "      <th>...</th>\n",
              "      <td>...</td>\n",
              "      <td>...</td>\n",
              "      <td>...</td>\n",
              "    </tr>\n",
              "    <tr>\n",
              "      <th>1411</th>\n",
              "      <td>11965</td>\n",
              "      <td>65</td>\n",
              "      <td>1</td>\n",
              "    </tr>\n",
              "    <tr>\n",
              "      <th>1412</th>\n",
              "      <td>11967</td>\n",
              "      <td>15</td>\n",
              "      <td>7</td>\n",
              "    </tr>\n",
              "    <tr>\n",
              "      <th>1413</th>\n",
              "      <td>11969</td>\n",
              "      <td>52</td>\n",
              "      <td>21</td>\n",
              "    </tr>\n",
              "    <tr>\n",
              "      <th>1414</th>\n",
              "      <td>11975</td>\n",
              "      <td>31</td>\n",
              "      <td>43</td>\n",
              "    </tr>\n",
              "    <tr>\n",
              "      <th>1415</th>\n",
              "      <td>11988</td>\n",
              "      <td>114</td>\n",
              "      <td>4</td>\n",
              "    </tr>\n",
              "  </tbody>\n",
              "</table>\n",
              "<p>1416 rows × 3 columns</p>\n",
              "</div>\n",
              "      <button class=\"colab-df-convert\" onclick=\"convertToInteractive('df-be3c6995-8b9a-46dc-918b-dfd9f13c497f')\"\n",
              "              title=\"Convert this dataframe to an interactive table.\"\n",
              "              style=\"display:none;\">\n",
              "        \n",
              "  <svg xmlns=\"http://www.w3.org/2000/svg\" height=\"24px\"viewBox=\"0 0 24 24\"\n",
              "       width=\"24px\">\n",
              "    <path d=\"M0 0h24v24H0V0z\" fill=\"none\"/>\n",
              "    <path d=\"M18.56 5.44l.94 2.06.94-2.06 2.06-.94-2.06-.94-.94-2.06-.94 2.06-2.06.94zm-11 1L8.5 8.5l.94-2.06 2.06-.94-2.06-.94L8.5 2.5l-.94 2.06-2.06.94zm10 10l.94 2.06.94-2.06 2.06-.94-2.06-.94-.94-2.06-.94 2.06-2.06.94z\"/><path d=\"M17.41 7.96l-1.37-1.37c-.4-.4-.92-.59-1.43-.59-.52 0-1.04.2-1.43.59L10.3 9.45l-7.72 7.72c-.78.78-.78 2.05 0 2.83L4 21.41c.39.39.9.59 1.41.59.51 0 1.02-.2 1.41-.59l7.78-7.78 2.81-2.81c.8-.78.8-2.07 0-2.86zM5.41 20L4 18.59l7.72-7.72 1.47 1.35L5.41 20z\"/>\n",
              "  </svg>\n",
              "      </button>\n",
              "      \n",
              "  <style>\n",
              "    .colab-df-container {\n",
              "      display:flex;\n",
              "      flex-wrap:wrap;\n",
              "      gap: 12px;\n",
              "    }\n",
              "\n",
              "    .colab-df-convert {\n",
              "      background-color: #E8F0FE;\n",
              "      border: none;\n",
              "      border-radius: 50%;\n",
              "      cursor: pointer;\n",
              "      display: none;\n",
              "      fill: #1967D2;\n",
              "      height: 32px;\n",
              "      padding: 0 0 0 0;\n",
              "      width: 32px;\n",
              "    }\n",
              "\n",
              "    .colab-df-convert:hover {\n",
              "      background-color: #E2EBFA;\n",
              "      box-shadow: 0px 1px 2px rgba(60, 64, 67, 0.3), 0px 1px 3px 1px rgba(60, 64, 67, 0.15);\n",
              "      fill: #174EA6;\n",
              "    }\n",
              "\n",
              "    [theme=dark] .colab-df-convert {\n",
              "      background-color: #3B4455;\n",
              "      fill: #D2E3FC;\n",
              "    }\n",
              "\n",
              "    [theme=dark] .colab-df-convert:hover {\n",
              "      background-color: #434B5C;\n",
              "      box-shadow: 0px 1px 3px 1px rgba(0, 0, 0, 0.15);\n",
              "      filter: drop-shadow(0px 1px 2px rgba(0, 0, 0, 0.3));\n",
              "      fill: #FFFFFF;\n",
              "    }\n",
              "  </style>\n",
              "\n",
              "      <script>\n",
              "        const buttonEl =\n",
              "          document.querySelector('#df-be3c6995-8b9a-46dc-918b-dfd9f13c497f button.colab-df-convert');\n",
              "        buttonEl.style.display =\n",
              "          google.colab.kernel.accessAllowed ? 'block' : 'none';\n",
              "\n",
              "        async function convertToInteractive(key) {\n",
              "          const element = document.querySelector('#df-be3c6995-8b9a-46dc-918b-dfd9f13c497f');\n",
              "          const dataTable =\n",
              "            await google.colab.kernel.invokeFunction('convertToInteractive',\n",
              "                                                     [key], {});\n",
              "          if (!dataTable) return;\n",
              "\n",
              "          const docLinkHtml = 'Like what you see? Visit the ' +\n",
              "            '<a target=\"_blank\" href=https://colab.research.google.com/notebooks/data_table.ipynb>data table notebook</a>'\n",
              "            + ' to learn more about interactive tables.';\n",
              "          element.innerHTML = '';\n",
              "          dataTable['output_type'] = 'display_data';\n",
              "          await google.colab.output.renderOutput(dataTable, element);\n",
              "          const docLink = document.createElement('div');\n",
              "          docLink.innerHTML = docLinkHtml;\n",
              "          element.appendChild(docLink);\n",
              "        }\n",
              "      </script>\n",
              "    </div>\n",
              "  </div>\n",
              "  "
            ]
          },
          "metadata": {},
          "execution_count": 49
        }
      ]
    },
    {
      "cell_type": "code",
      "source": [
        "#df2['wk_1'] = df2['time_stamp'].dt.week\n",
        "#df2[ (df2['user_id'] == 1027) & (df2['wk_1'] <= 1) & (df2['yr'] == 2013) ]"
      ],
      "metadata": {
        "id": "SP2BIH-9JuHh"
      },
      "execution_count": 50,
      "outputs": []
    },
    {
      "cell_type": "code",
      "source": [
        "#elan = check_val.groupby(['org_id', 'visited']).size()\n",
        "#elan\n",
        "\n",
        "#elan = check_val.groupby(['creation_source', 'visited']).size()\n",
        "#elan"
      ],
      "metadata": {
        "id": "W-IYYbNXJ67p"
      },
      "execution_count": 51,
      "outputs": []
    },
    {
      "cell_type": "code",
      "source": [
        "plt.style.use('fivethirtyeight')\n",
        "plt.figure(figsize=(10,5) )\n",
        "\n",
        "#new_df_1['user_id'].head(10).plot.bar(figsize=(10,5) , log=True)\n",
        "new_df_2.head(10).plot.bar(figsize=(10,5)  , log=True)"
      ],
      "metadata": {
        "colab": {
          "base_uri": "https://localhost:8080/",
          "height": 370
        },
        "id": "cqr--FYUJ7GE",
        "outputId": "b27d05c4-43ef-4e5b-f380-d542ea32cf57"
      },
      "execution_count": 52,
      "outputs": [
        {
          "output_type": "execute_result",
          "data": {
            "text/plain": [
              "<matplotlib.axes._subplots.AxesSubplot at 0x7f3c2c6249d0>"
            ]
          },
          "metadata": {},
          "execution_count": 52
        },
        {
          "output_type": "display_data",
          "data": {
            "text/plain": [
              "<Figure size 720x360 with 0 Axes>"
            ]
          },
          "metadata": {}
        },
        {
          "output_type": "display_data",
          "data": {
            "text/plain": [
              "<Figure size 720x360 with 1 Axes>"
            ],
            "image/png": "[encoded data removed]"
          },
          "metadata": {}
        }
      ]
    },
    {
      "cell_type": "code",
      "source": [
        "user_vs_org_id = new_df_2[[\"user_id\",\"org_id\"]]\n",
        "user_vs_cnt = new_df_2[[\"user_id\",\"cnt\"]]\n",
        "org_vs_cnt = new_df_2[[\"org_id\",\"cnt\"]]"
      ],
      "metadata": {
        "id": "HXFZtJJWJ7Ng"
      },
      "execution_count": 53,
      "outputs": []
    },
    {
      "cell_type": "code",
      "source": [
        "plt.style.use('fivethirtyeight')\n",
        "plt.figure(figsize=(10,5) )\n",
        "\n",
        "#new_df_1['user_id'].head(10).plot.bar(figsize=(10,5) , log=True)\n",
        "user_vs_org_id.head(20).plot.bar(figsize=(10,5)  , log=True)"
      ],
      "metadata": {
        "colab": {
          "base_uri": "https://localhost:8080/",
          "height": 379
        },
        "id": "jpgymiv3J7Ta",
        "outputId": "40518348-8e41-40c9-fcd9-4255ccbafd53"
      },
      "execution_count": 54,
      "outputs": [
        {
          "output_type": "execute_result",
          "data": {
            "text/plain": [
              "<matplotlib.axes._subplots.AxesSubplot at 0x7f3c2d931610>"
            ]
          },
          "metadata": {},
          "execution_count": 54
        },
        {
          "output_type": "display_data",
          "data": {
            "text/plain": [
              "<Figure size 720x360 with 0 Axes>"
            ]
          },
          "metadata": {}
        },
        {
          "output_type": "display_data",
          "data": {
            "text/plain": [
              "<Figure size 720x360 with 1 Axes>"
            ],
            "image/png": "[encoded data removed]"
          },
          "metadata": {}
        }
      ]
    },
    {
      "cell_type": "code",
      "source": [
        "plt.style.use('fivethirtyeight')\n",
        "plt.figure(figsize=(10,5) )\n",
        "\n",
        "#new_df_1['user_id'].head(10).plot.bar(figsize=(10,5) , log=True)\n",
        "user_vs_cnt.head(20).plot.bar(figsize=(10,5)  , log=True)"
      ],
      "metadata": {
        "colab": {
          "base_uri": "https://localhost:8080/",
          "height": 379
        },
        "id": "ur6_oaiXKRO4",
        "outputId": "521b0a25-70de-4a69-b942-4e3ae6bec3ea"
      },
      "execution_count": 55,
      "outputs": [
        {
          "output_type": "execute_result",
          "data": {
            "text/plain": [
              "<matplotlib.axes._subplots.AxesSubplot at 0x7f3c2d96c610>"
            ]
          },
          "metadata": {},
          "execution_count": 55
        },
        {
          "output_type": "display_data",
          "data": {
            "text/plain": [
              "<Figure size 720x360 with 0 Axes>"
            ]
          },
          "metadata": {}
        },
        {
          "output_type": "display_data",
          "data": {
            "text/plain": [
              "<Figure size 720x360 with 1 Axes>"
            ],
            "image/png": "[encoded data removed]"
          },
          "metadata": {}
        }
      ]
    },
    {
      "cell_type": "code",
      "source": [
        "plt.style.use('fivethirtyeight')\n",
        "plt.figure(figsize=(10,5) )\n",
        "\n",
        "#new_df_1['user_id'].head(10).plot.bar(figsize=(10,5) , log=True)\n",
        "org_vs_cnt.head(20).plot.bar(figsize=(10,5)  , log=True)"
      ],
      "metadata": {
        "colab": {
          "base_uri": "https://localhost:8080/",
          "height": 379
        },
        "id": "tTLL-7TqKRfQ",
        "outputId": "c6d1e20a-1bbf-4f75-ec4d-63bf2e2511e4"
      },
      "execution_count": 56,
      "outputs": [
        {
          "output_type": "execute_result",
          "data": {
            "text/plain": [
              "<matplotlib.axes._subplots.AxesSubplot at 0x7f3c2da17d10>"
            ]
          },
          "metadata": {},
          "execution_count": 56
        },
        {
          "output_type": "display_data",
          "data": {
            "text/plain": [
              "<Figure size 720x360 with 0 Axes>"
            ]
          },
          "metadata": {}
        },
        {
          "output_type": "display_data",
          "data": {
            "text/plain": [
              "<Figure size 720x360 with 1 Axes>"
            ],
            "image/png": "[encoded data removed]"
          },
          "metadata": {}
        }
      ]
    },
    {
      "cell_type": "code",
      "source": [
        "creation_source_org_id = check_val[[\"user_id\",\"org_id\",\"creation_source\"]]\n",
        "creation_source_org_id.info()\n",
        "#new_df_2\n",
        "creation_source_vs_user_org_id = pd.merge(creation_source_org_id, new_df_2, on='user_id')\n",
        "#creation_source_vs_user_org_id.info()\n",
        "#creation_source_vs_user_org_id.describe()"
      ],
      "metadata": {
        "colab": {
          "base_uri": "https://localhost:8080/"
        },
        "id": "HcZzBsgIKRi1",
        "outputId": "7e89d4ea-d5d8-4b73-c6c0-61f0bb70d7d3"
      },
      "execution_count": 57,
      "outputs": [
        {
          "output_type": "stream",
          "name": "stdout",
          "text": [
            "<class 'pandas.core.frame.DataFrame'>\n",
            "Int64Index: 207917 entries, 0 to 207916\n",
            "Data columns (total 3 columns):\n",
            " #   Column           Non-Null Count   Dtype \n",
            "---  ------           --------------   ----- \n",
            " 0   user_id          207917 non-null  int64 \n",
            " 1   org_id           207917 non-null  int64 \n",
            " 2   creation_source  207917 non-null  object\n",
            "dtypes: int64(2), object(1)\n",
            "memory usage: 6.3+ MB\n"
          ]
        }
      ]
    },
    {
      "cell_type": "code",
      "source": [
        "cr_src_vs_user_org_id = creation_source_vs_user_org_id[[\"user_id\",\"org_id_x\",\"creation_source\"]]\n",
        "\n",
        "cr_src_vs_user_org_id_grp = cr_src_vs_user_org_id.groupby(['creation_source']).size()\n",
        "cr_src_vs_user_org_id_grp = cr_src_vs_user_org_id_grp.to_frame(name = 'size').reset_index()\n",
        "cr_src_vs_user_org_id_grp.rename(columns = {'size':'cnt'}, inplace = True)\n",
        "\n",
        "#cr_src_vs_user_org_id_rm_dup = cr_src_vs_user_org_id[cr_src_vs_user_org_id.duplicated(keep='first')]\n",
        "#cr_src_vs_user_org_id_rm_dup = cr_src_vs_user_org_id_rm_dup.drop_duplicates()\n",
        "#cr_src_vs_user_org_id_rm_dup.info()\n",
        "cr_src_vs_user_org_id_grp.info()\n",
        "cr_src_vs_user_org_id_grp"
      ],
      "metadata": {
        "colab": {
          "base_uri": "https://localhost:8080/",
          "height": 362
        },
        "id": "Spt9Kb5YKRmu",
        "outputId": "e57d9518-fb62-4bea-e122-885fb609b628"
      },
      "execution_count": 58,
      "outputs": [
        {
          "output_type": "stream",
          "name": "stdout",
          "text": [
            "<class 'pandas.core.frame.DataFrame'>\n",
            "RangeIndex: 5 entries, 0 to 4\n",
            "Data columns (total 2 columns):\n",
            " #   Column           Non-Null Count  Dtype \n",
            "---  ------           --------------  ----- \n",
            " 0   creation_source  5 non-null      object\n",
            " 1   cnt              5 non-null      int64 \n",
            "dtypes: int64(1), object(1)\n",
            "memory usage: 208.0+ bytes\n"
          ]
        },
        {
          "output_type": "execute_result",
          "data": {
            "text/plain": [
              "      creation_source    cnt\n",
              "0        GUEST_INVITE  44513\n",
              "1          ORG_INVITE  65654\n",
              "2   PERSONAL_PROJECTS  18126\n",
              "3              SIGNUP  35272\n",
              "4  SIGNUP_GOOGLE_AUTH  32501"
            ],
            "text/html": [
              "\n",
              "  <div id=\"df-68fa1bcf-d9aa-4379-91e1-508250d73a7d\">\n",
              "    <div class=\"colab-df-container\">\n",
              "      <div>\n",
              "<style scoped>\n",
              "    .dataframe tbody tr th:only-of-type {\n",
              "        vertical-align: middle;\n",
              "    }\n",
              "\n",
              "    .dataframe tbody tr th {\n",
              "        vertical-align: top;\n",
              "    }\n",
              "\n",
              "    .dataframe thead th {\n",
              "        text-align: right;\n",
              "    }\n",
              "</style>\n",
              "<table border=\"1\" class=\"dataframe\">\n",
              "  <thead>\n",
              "    <tr style=\"text-align: right;\">\n",
              "      <th></th>\n",
              "      <th>creation_source</th>\n",
              "      <th>cnt</th>\n",
              "    </tr>\n",
              "  </thead>\n",
              "  <tbody>\n",
              "    <tr>\n",
              "      <th>0</th>\n",
              "      <td>GUEST_INVITE</td>\n",
              "      <td>44513</td>\n",
              "    </tr>\n",
              "    <tr>\n",
              "      <th>1</th>\n",
              "      <td>ORG_INVITE</td>\n",
              "      <td>65654</td>\n",
              "    </tr>\n",
              "    <tr>\n",
              "      <th>2</th>\n",
              "      <td>PERSONAL_PROJECTS</td>\n",
              "      <td>18126</td>\n",
              "    </tr>\n",
              "    <tr>\n",
              "      <th>3</th>\n",
              "      <td>SIGNUP</td>\n",
              "      <td>35272</td>\n",
              "    </tr>\n",
              "    <tr>\n",
              "      <th>4</th>\n",
              "      <td>SIGNUP_GOOGLE_AUTH</td>\n",
              "      <td>32501</td>\n",
              "    </tr>\n",
              "  </tbody>\n",
              "</table>\n",
              "</div>\n",
              "      <button class=\"colab-df-convert\" onclick=\"convertToInteractive('df-68fa1bcf-d9aa-4379-91e1-508250d73a7d')\"\n",
              "              title=\"Convert this dataframe to an interactive table.\"\n",
              "              style=\"display:none;\">\n",
              "        \n",
              "  <svg xmlns=\"http://www.w3.org/2000/svg\" height=\"24px\"viewBox=\"0 0 24 24\"\n",
              "       width=\"24px\">\n",
              "    <path d=\"M0 0h24v24H0V0z\" fill=\"none\"/>\n",
              "    <path d=\"M18.56 5.44l.94 2.06.94-2.06 2.06-.94-2.06-.94-.94-2.06-.94 2.06-2.06.94zm-11 1L8.5 8.5l.94-2.06 2.06-.94-2.06-.94L8.5 2.5l-.94 2.06-2.06.94zm10 10l.94 2.06.94-2.06 2.06-.94-2.06-.94-.94-2.06-.94 2.06-2.06.94z\"/><path d=\"M17.41 7.96l-1.37-1.37c-.4-.4-.92-.59-1.43-.59-.52 0-1.04.2-1.43.59L10.3 9.45l-7.72 7.72c-.78.78-.78 2.05 0 2.83L4 21.41c.39.39.9.59 1.41.59.51 0 1.02-.2 1.41-.59l7.78-7.78 2.81-2.81c.8-.78.8-2.07 0-2.86zM5.41 20L4 18.59l7.72-7.72 1.47 1.35L5.41 20z\"/>\n",
              "  </svg>\n",
              "      </button>\n",
              "      \n",
              "  <style>\n",
              "    .colab-df-container {\n",
              "      display:flex;\n",
              "      flex-wrap:wrap;\n",
              "      gap: 12px;\n",
              "    }\n",
              "\n",
              "    .colab-df-convert {\n",
              "      background-color: #E8F0FE;\n",
              "      border: none;\n",
              "      border-radius: 50%;\n",
              "      cursor: pointer;\n",
              "      display: none;\n",
              "      fill: #1967D2;\n",
              "      height: 32px;\n",
              "      padding: 0 0 0 0;\n",
              "      width: 32px;\n",
              "    }\n",
              "\n",
              "    .colab-df-convert:hover {\n",
              "      background-color: #E2EBFA;\n",
              "      box-shadow: 0px 1px 2px rgba(60, 64, 67, 0.3), 0px 1px 3px 1px rgba(60, 64, 67, 0.15);\n",
              "      fill: #174EA6;\n",
              "    }\n",
              "\n",
              "    [theme=dark] .colab-df-convert {\n",
              "      background-color: #3B4455;\n",
              "      fill: #D2E3FC;\n",
              "    }\n",
              "\n",
              "    [theme=dark] .colab-df-convert:hover {\n",
              "      background-color: #434B5C;\n",
              "      box-shadow: 0px 1px 3px 1px rgba(0, 0, 0, 0.15);\n",
              "      filter: drop-shadow(0px 1px 2px rgba(0, 0, 0, 0.3));\n",
              "      fill: #FFFFFF;\n",
              "    }\n",
              "  </style>\n",
              "\n",
              "      <script>\n",
              "        const buttonEl =\n",
              "          document.querySelector('#df-68fa1bcf-d9aa-4379-91e1-508250d73a7d button.colab-df-convert');\n",
              "        buttonEl.style.display =\n",
              "          google.colab.kernel.accessAllowed ? 'block' : 'none';\n",
              "\n",
              "        async function convertToInteractive(key) {\n",
              "          const element = document.querySelector('#df-68fa1bcf-d9aa-4379-91e1-508250d73a7d');\n",
              "          const dataTable =\n",
              "            await google.colab.kernel.invokeFunction('convertToInteractive',\n",
              "                                                     [key], {});\n",
              "          if (!dataTable) return;\n",
              "\n",
              "          const docLinkHtml = 'Like what you see? Visit the ' +\n",
              "            '<a target=\"_blank\" href=https://colab.research.google.com/notebooks/data_table.ipynb>data table notebook</a>'\n",
              "            + ' to learn more about interactive tables.';\n",
              "          element.innerHTML = '';\n",
              "          dataTable['output_type'] = 'display_data';\n",
              "          await google.colab.output.renderOutput(dataTable, element);\n",
              "          const docLink = document.createElement('div');\n",
              "          docLink.innerHTML = docLinkHtml;\n",
              "          element.appendChild(docLink);\n",
              "        }\n",
              "      </script>\n",
              "    </div>\n",
              "  </div>\n",
              "  "
            ]
          },
          "metadata": {},
          "execution_count": 58
        }
      ]
    },
    {
      "cell_type": "code",
      "source": [
        "y = np.array(cr_src_vs_user_org_id_grp['cnt'])\n",
        "mylabels = np.array(cr_src_vs_user_org_id_grp['creation_source'])\n",
        "plt.style.use('fivethirtyeight')\n",
        "plt.figure(figsize=(10,5) )\n",
        "\n",
        "#new_df_1['user_id'].head(10).plot.bar(figsize=(10,5) , log=True)\n",
        "# cr_src_vs_user_org_id_grp.head(20).plot.pie(figsize=(10,5)  , log=True)\n",
        "plt.pie(y,labels =mylabels)\n",
        "plt.show()"
      ],
      "metadata": {
        "colab": {
          "base_uri": "https://localhost:8080/",
          "height": 323
        },
        "id": "DZ8QpOGpKlNu",
        "outputId": "6540a35f-b23d-43f0-ca4c-d4336a324a32"
      },
      "execution_count": 59,
      "outputs": [
        {
          "output_type": "display_data",
          "data": {
            "text/plain": [
              "<Figure size 720x360 with 1 Axes>"
            ],
            "image/png": "[encoded data removed]"
          },
          "metadata": {}
        }
      ]
    }
  ]
}
